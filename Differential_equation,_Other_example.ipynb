{
  "cells": [
    {
      "cell_type": "markdown",
      "metadata": {
        "id": "l-7da9NadXG7"
      },
      "source": [
        "#Graph 1"
      ]
    },
    {
      "cell_type": "code",
      "execution_count": null,
      "metadata": {
        "id": "SEyLwOKoayDw"
      },
      "outputs": [],
      "source": [
        "import numpy as np\n",
        "from matplotlib import cm\n",
        "import matplotlib.pyplot as plt\n",
        "import jax\n",
        "from jax import grad, vmap\n",
        "import jax.numpy as jnp\n",
        "import torch\n",
        "import tqdm\n",
        "import scipy\n",
        "from scipy import integrate"
      ]
    },
    {
      "cell_type": "code",
      "source": [
        "jax.config.update(\"jax_enable_x64\", True)"
      ],
      "metadata": {
        "id": "rRj8hEOkmDaA"
      },
      "execution_count": null,
      "outputs": []
    },
    {
      "cell_type": "code",
      "execution_count": null,
      "metadata": {
        "id": "hzr5baLW99OG"
      },
      "outputs": [],
      "source": [
        "#Exponential kernel for two inputs i.e. ID\n",
        "def kernel(s,t,params):\n",
        "  #K = jnp.exp(-(s-t)**2/(2*params[0]**2))\n",
        "  K = (1+jnp.sqrt(5)*jnp.abs(s-t)/params[0]+5/3*jnp.abs(s-t)**2/params[0]**2)*jnp.exp(-jnp.sqrt(5)*jnp.abs(s-t)/params[0])\n",
        "  return K"
      ]
    },
    {
      "cell_type": "code",
      "source": [
        "def kernel_u(s,t,params):\n",
        "  #K = -(s-t)*kernel(s,t,params)/params[0]**2\n",
        "  K = -5*(s-t)*jnp.exp(-jnp.sqrt(5)*jnp.abs(s-t)/params[0])*(params[0]+jnp.sqrt(5)*jnp.abs(s-t))/(3*params[0]**3)\n",
        "  return K\n",
        "\n",
        "def kernel_z(s,t,params):\n",
        "  #K = (s-t)*kernel(s,t,params)/params[0]**2\n",
        "  K = 5*(s-t)*jnp.exp(-jnp.sqrt(5)*jnp.abs(s-t)/params[0])*(params[0]+jnp.sqrt(5)*jnp.abs(s-t))/(3*params[0]**3)\n",
        "  return K\n",
        "\n",
        "def kernel_uz(s,t,params):\n",
        "  #K = (params[0]**2-(s-t)**2)*kernel(s,t,params)/params[0]**4\n",
        "  K = 5*jnp.exp(-jnp.sqrt(5)*jnp.abs(s-t)/params[0])*(jnp.sqrt(5)*params[0]*jnp.abs(s-t)+params[0]**2-5*(s-t)**2)/(3*params[0]**4)\n",
        "  return K"
      ],
      "metadata": {
        "id": "P9QDdJOG_I3I"
      },
      "execution_count": null,
      "outputs": []
    },
    {
      "cell_type": "code",
      "execution_count": null,
      "metadata": {
        "id": "UgCkmcWCQCdP"
      },
      "outputs": [],
      "source": [
        "#Start and end times for space (x) and time (t)\n",
        "xbegin=0\n",
        "xfinal=1\n",
        "Tstart=0\n",
        "Tend=1\n",
        "#Space step\n",
        "h=1/100\n",
        "#Time step\n",
        "c=1/1000000\n",
        "x = np.arange(xbegin, xfinal+h, h)\n",
        "t = np.arange(Tstart, Tstart+2*c, c)\n",
        "\n",
        "m=len(x)-1\n",
        "p=len(t)-1"
      ]
    },
    {
      "cell_type": "code",
      "source": [
        "def linearize(u):\n",
        "  return jnp.exp((u**3-1)/3)\n",
        "\n",
        "def error(u,u_true):\n",
        "  return jnp.linalg.norm(u-u_true)/jnp.linalg.norm(u_true)\n",
        "\n",
        "def rkhs_norm(K,Y):\n",
        "  return Y[:,0].dot(jnp.linalg.inv(K)@Y)"
      ],
      "metadata": {
        "id": "yKa__J6A0G4w"
      },
      "execution_count": null,
      "outputs": []
    },
    {
      "cell_type": "code",
      "execution_count": null,
      "metadata": {
        "id": "F69XBB5FYmBT"
      },
      "outputs": [],
      "source": [
        "nonlin_test=np.zeros((m+1,p+2))\n",
        "nonlin_train1=np.zeros((m+1,p+2))\n",
        "\n",
        "\n",
        "nonlin_train1[:,0] = jnp.cbrt(3*jnp.log(jnp.exp(x)*jnp.cosh(-x))+1)\n",
        "nonlin_dx_train1=np.zeros((m+1,p+1))\n",
        "nonlin_dx2_train1=np.zeros((m+1,p+1))\n",
        "nonlin_dx3_train1=np.zeros((m+1,p+1))\n",
        "\n",
        "nonlin_test[:,0] = nonlin_train1[:,0]\n",
        "nonlin_dx_test=np.zeros((m+1,p+1))\n",
        "nonlin_dx2_test=np.zeros((m+1,p+1))\n",
        "nonlin_dx3_test=np.zeros((m+1,p+1))\n",
        "\n",
        "#Solve nonlins numerical via Euler\n",
        "for n in range(p+1):\n",
        "    spl0 = scipy.interpolate.splrep(x,nonlin_test[:,n],k=3)\n",
        "    nonlin_dx_test[:,n] = scipy.interpolate.splev(x,spl0,der=1)\n",
        "    nonlin_dx2_test[:,n] = scipy.interpolate.splev(x,spl0,der=2)\n",
        "    nonlin_dx3_test[:,n] = scipy.interpolate.splev(x,spl0,der=3)\n",
        "    nonlin_test[:,n+1] = (nonlin_dx_test[:,n] - 1/nonlin_test[:,n]**2+nonlin_test[:,n]/c)*c\n",
        "\n",
        "    spl1 = scipy.interpolate.splrep(x,nonlin_train1[:,n],k=3)\n",
        "    nonlin_dx_train1[:,n] = scipy.interpolate.splev(x,spl1,der=1)\n",
        "    nonlin_dx2_train1[:,n] = scipy.interpolate.splev(x,spl1,der=2)\n",
        "    nonlin_dx3_train1[:,n] = scipy.interpolate.splev(x,spl1,der=3)\n",
        "    nonlin_train1[:,n+1] =  (nonlin_dx_train1[:,n] - 1/nonlin_train1[:,n]**2+nonlin_train1[:,n]/c)*c"
      ]
    },
    {
      "cell_type": "code",
      "source": [
        "linearize(jnp.cbrt(3*jnp.log(jnp.exp(-10)*jnp.cosh(10))-1))"
      ],
      "metadata": {
        "colab": {
          "base_uri": "https://localhost:8080/"
        },
        "id": "aad7w-BAWWsZ",
        "outputId": "0238060a-6ab3-476a-ad0d-4048ca198edd"
      },
      "execution_count": null,
      "outputs": [
        {
          "output_type": "execute_result",
          "data": {
            "text/plain": [
              "Array(0.25670856, dtype=float64, weak_type=True)"
            ]
          },
          "metadata": {},
          "execution_count": 8
        }
      ]
    },
    {
      "cell_type": "code",
      "source": [
        "nonlin_train = nonlin_train1\n",
        "nonlin_dx_train = nonlin_dx_train1\n",
        "nonlin_dx2_train = nonlin_dx2_train1\n",
        "nonlin_dx3_train = nonlin_dx3_train1"
      ],
      "metadata": {
        "id": "etX9Vn5jHZrd"
      },
      "execution_count": null,
      "outputs": []
    },
    {
      "cell_type": "code",
      "execution_count": null,
      "metadata": {
        "id": "UPLCt6Nl9za_"
      },
      "outputs": [],
      "source": [
        "#Kernel matrix as function of one vector\n",
        "def K_Matrix(X,Y,params,reg=False,nugget=10**-5):\n",
        "  size=len(X[:,0])\n",
        "  size2=len(Y[:,0])\n",
        "  X0=jnp.transpose(jnp.tile(X[:,0],(size2,1)))\n",
        "  Y0=jnp.transpose(jnp.tile(Y[:,0],(size,1)))\n",
        "\n",
        "  val = vmap(lambda s, t: kernel(s,t,params))(X0.flatten(),np.transpose(Y0).flatten())\n",
        "\n",
        "  K_matrix=np.reshape(val,(size,size2))\n",
        "  if reg==True and size==size2:\n",
        "    K_matrix+=+nugget*jnp.eye(size)\n",
        "  return K_matrix"
      ]
    },
    {
      "cell_type": "code",
      "execution_count": null,
      "metadata": {
        "id": "1x_AlRK9AT1z"
      },
      "outputs": [],
      "source": [
        "#Second derivative with respect to x\n",
        "def K_du(X,Y,params,reg=False,nugget=10**-5):\n",
        "  size=len(X[:,0])\n",
        "  size2=len(Y[:,0])\n",
        "  X0=jnp.transpose(jnp.tile(X[:,0],(size2,1)))\n",
        "  Y0=jnp.transpose(jnp.tile(Y[:,0],(size,1)))\n",
        "\n",
        "  K_du = vmap(lambda s, t: kernel_u(s,t,params))(X0.flatten(),np.transpose(Y0).flatten())\n",
        "  K_du = np.reshape(K_du,(size,size2))\n",
        "\n",
        "  if reg==True and size==size2:\n",
        "    K_du+=+nugget*jnp.eye(size)\n",
        "  return K_du"
      ]
    },
    {
      "cell_type": "code",
      "source": [
        "#Second derivative with respect to y\n",
        "def K_dz(X,Y,params,reg=False,nugget=10**-5):\n",
        "  size=len(X[:,0])\n",
        "  size2=len(Y[:,0])\n",
        "  X0=jnp.transpose(jnp.tile(X[:,0],(size2,1)))\n",
        "  Y0=jnp.transpose(jnp.tile(Y[:,0],(size,1)))\n",
        "\n",
        "  K_dz = vmap(lambda s, t: kernel_z(s,t,params))(X0.flatten(),np.transpose(Y0).flatten())\n",
        "  K_dz = np.reshape(K_dz,(size,size2))\n",
        "\n",
        "  if reg==True and size==size2:\n",
        "    K_dz+=+nugget*jnp.eye(size)\n",
        "  return K_dz"
      ],
      "metadata": {
        "id": "f3Ll3Jib13aa"
      },
      "execution_count": null,
      "outputs": []
    },
    {
      "cell_type": "code",
      "source": [
        "#Second derivative with respect to x\n",
        "def K_duz(X,Y,params,reg=False,nugget=10**-5):\n",
        "  size=len(X[:,0])\n",
        "  size2=len(Y[:,0])\n",
        "  X0=jnp.transpose(jnp.tile(X[:,0],(size2,1)))\n",
        "  Y0=jnp.transpose(jnp.tile(Y[:,0],(size,1)))\n",
        "\n",
        "  K_duz = vmap(lambda s, t: kernel_uz(s,t,params))(X0.flatten(),np.transpose(Y0).flatten())\n",
        "  K_duz = np.reshape(K_duz,(size,size2))\n",
        "\n",
        "\n",
        "  if reg==True and size==size2:\n",
        "    K_duz+=+nugget*jnp.eye(size)\n",
        "  return K_duz"
      ],
      "metadata": {
        "id": "QxDmz2e4hDL6"
      },
      "execution_count": null,
      "outputs": []
    },
    {
      "cell_type": "code",
      "execution_count": null,
      "metadata": {
        "id": "cG2eZmMkJzqe"
      },
      "outputs": [],
      "source": [
        "size = len(nonlin_train[:,0])\n",
        "\n",
        "u0 = nonlin_train[:,0].reshape((size,1))\n",
        "\n",
        "\n",
        "Y = np.eye(1,size+1).reshape((size+1,1))"
      ]
    },
    {
      "cell_type": "code",
      "source": [
        "def matrix_assembly(X,params):\n",
        "\n",
        "  #Constructs K(\\phi,\\phi)\n",
        "  size = len(X[:,0])\n",
        "  K = jnp.zeros((size+1,size+1))\n",
        "  K_u = K_du(X,X,params)\n",
        "  K_z = K_dz(X,X,params)\n",
        "  K_uz = K_duz(X,X,params)\n",
        "  K_00 = K_Matrix(X,X,params)\n",
        "\n",
        "\n",
        "  K = K.at[1:size+1,1:size+1].set(jnp.outer(1/X[:,0]**2,1/X[:,0]**2)*K_uz - 1/X**2*K_u - 1/X[:,0]**2*K_z+K_00)\n",
        "  K = K.at[0,0].set(kernel(1,1,params))\n",
        "\n",
        "\n",
        "  K = K.at[1:size+1,0].set(1/X[:,0]**2*jnp.diag(K_du(X,jnp.ones((size,1)),params))-kernel(X,1,params)[:,0])\n",
        "  K = K.at[0,1:size+1].set(K[1:size+1,0])\n",
        "\n",
        "\n",
        "  return K"
      ],
      "metadata": {
        "id": "KxQ9fGhFKO0x"
      },
      "execution_count": null,
      "outputs": []
    },
    {
      "cell_type": "code",
      "source": [
        "#Construct K(\\phi,\\phi)\n",
        "#K = np.zeros((size+1,size+1))\n",
        "\n",
        "#K[1:size+1,1:size+1] = jnp.outer(1/nonlin_train[:,0]**2,1/nonlin_train[:,0]**2)*K_uz - 1/u0**2*K_u - 1/nonlin_train[:,0]**2*K_z+K_00\n",
        "\n",
        "#K[0,0] = kernel(1,1,params)\n",
        "#$K[1:size+1,0] = 1/nonlin_train[:,0]**2*np.diag(K_du(u0,np.ones((size,1)),params))-kernel(u0,1,params)[:,0]\n",
        "#K[0,1:size+1] = K[1:size+1,0]"
      ],
      "metadata": {
        "id": "v1EPwupPrYX-"
      },
      "execution_count": null,
      "outputs": []
    },
    {
      "cell_type": "code",
      "execution_count": null,
      "metadata": {
        "id": "6rJjrul1Smf7"
      },
      "outputs": [],
      "source": [
        "#Computes vector K(x,X)\n",
        "#def K_vector(X_test,X_train,params=params):\n",
        "  #size=len(X_test[:,0])\n",
        "  #size2 = len(X_train[:,0])\n",
        "\n",
        "  #K_vector = np.zeros((size,size2+1))\n",
        "\n",
        "  #Y2 = jnp.array(X_train[:,0]).reshape((size2,1))\n",
        "\n",
        "  #test = X_test[:,0].reshape((size,1))\n",
        "\n",
        "  #K_vector[:,1:size+1] =  1/jnp.array(X_train[:,0])**2*K_dz(X_test,Y2,params)-K_Matrix(X_test,Y2,params)\n",
        "\n",
        "  #K_vector[:,0] = kernel(test,1,params)[:,0]\n",
        "\n",
        "  #return K_vector"
      ]
    },
    {
      "cell_type": "code",
      "source": [
        "#Computes vector K(u,\\phi)\n",
        "def K_vector(X_test,X_train,params):\n",
        "  size=len(X_test[:,0])\n",
        "  size2 = len(X_train[:,0])\n",
        "\n",
        "  Y2 = jnp.array(X_train[:,0]).reshape((size2,1))\n",
        "\n",
        "  K_vector = jnp.zeros((size,size2+1))\n",
        "\n",
        "  X_test = X_test[:,0].reshape((size,1))\n",
        "  X_train = X_train[:,0].reshape((size2,1))\n",
        "\n",
        "\n",
        "  K_vector = K_vector.at[:,1:size2+1].set(1/jnp.array(X_train[:,0])**2*K_dz(X_test,Y2,params)-K_Matrix(X_test,Y2,params))\n",
        "\n",
        "  #K(u,\\phi_1)\n",
        "  K_vector = K_vector.at[:,0].set(jnp.diag(K_Matrix(X_test,jnp.ones((size,1)),params,nugget=False)))\n",
        "\n",
        "\n",
        "  return K_vector"
      ],
      "metadata": {
        "id": "ht53JHvaLFaj"
      },
      "execution_count": null,
      "outputs": []
    },
    {
      "cell_type": "code",
      "source": [
        "train_size = len(nonlin_train[:,0])\n",
        "train = nonlin_train[:,0].reshape((train_size,1))"
      ],
      "metadata": {
        "id": "ONU0RVFfLacM"
      },
      "execution_count": null,
      "outputs": []
    },
    {
      "cell_type": "code",
      "source": [
        "#Create K(\\phi,\\phi)\n",
        "params = jnp.array([0.1])\n",
        "test = nonlin_test[:,0]\n",
        "test = test.reshape((len(test),1))\n",
        "K = matrix_assembly(train,params)\n"
      ],
      "metadata": {
        "id": "mGNzZgbyMAxa"
      },
      "execution_count": null,
      "outputs": []
    },
    {
      "cell_type": "code",
      "execution_count": null,
      "metadata": {
        "id": "Gn3zVNE6Rjzi"
      },
      "outputs": [],
      "source": [
        "#Kernel regression for one dimension K(x,X)K(X,X)^-1 Y\n",
        "def kernel_regression(X_test,X_train, Y_train,K_matrix=K,params=params,nugget=1*10**-10):\n",
        "    t_matrix = K_vector(X_test,X_train,params=params)\n",
        "    prediction = jnp.matmul(t_matrix,jnp.linalg.inv(K_matrix+nugget*np.eye(len(K_matrix[:,0])))@Y_train)\n",
        "    return prediction"
      ]
    },
    {
      "cell_type": "code",
      "execution_count": null,
      "metadata": {
        "id": "E4ca6nn6_7Di"
      },
      "outputs": [],
      "source": [
        "results = kernel_regression(nonlin_test[:,0].reshape((m+1,1)),nonlin_train,Y_train=Y)"
      ]
    },
    {
      "cell_type": "code",
      "execution_count": null,
      "metadata": {
        "id": "olFVzeJ-U2TG",
        "colab": {
          "base_uri": "https://localhost:8080/",
          "height": 489
        },
        "outputId": "c22a493d-7de5-4856-e2df-b43907047e7f"
      },
      "outputs": [
        {
          "output_type": "execute_result",
          "data": {
            "text/plain": [
              "Text(0.5, 1.0, 'Recovery of linear PDE (against x)')"
            ]
          },
          "metadata": {},
          "execution_count": 35
        },
        {
          "output_type": "display_data",
          "data": {
            "text/plain": [
              "<Figure size 640x480 with 1 Axes>"
            ],
            "image/png": "[encoded data removed]"
          },
          "metadata": {}
        }
      ],
      "source": [
        "plt.plot(x,results)\n",
        "plt.plot(x,linearize(nonlin_test[:,0]))\n",
        "plt.xlabel('x')\n",
        "plt.ylabel('w')\n",
        "plt.legend(['Recovered','True'])\n",
        "plt.title('Recovery of linear PDE (against x)')"
      ]
    },
    {
      "cell_type": "code",
      "source": [
        "#test error\n",
        "error(results[:,0],linearize(nonlin_test[:,0]))"
      ],
      "metadata": {
        "id": "Ig41bHAYZ15c",
        "colab": {
          "base_uri": "https://localhost:8080/"
        },
        "outputId": "3e9db757-ef3c-4c48-9897-26ae11a51942"
      },
      "execution_count": null,
      "outputs": [
        {
          "output_type": "execute_result",
          "data": {
            "text/plain": [
              "Array(0.00210235, dtype=float64)"
            ]
          },
          "metadata": {},
          "execution_count": 36
        }
      ]
    },
    {
      "cell_type": "code",
      "execution_count": null,
      "metadata": {
        "id": "d-n5ADBjJtH6",
        "colab": {
          "base_uri": "https://localhost:8080/",
          "height": 489
        },
        "outputId": "cfdc0b29-fff1-4499-b88b-e48048f31edb"
      },
      "outputs": [
        {
          "output_type": "execute_result",
          "data": {
            "text/plain": [
              "Text(0.5, 1.0, 'Recovered transformation')"
            ]
          },
          "metadata": {},
          "execution_count": 37
        },
        {
          "output_type": "display_data",
          "data": {
            "text/plain": [
              "<Figure size 640x480 with 1 Axes>"
            ],
            "image/png": "[encoded data removed]"
          },
          "metadata": {}
        }
      ],
      "source": [
        "plt.plot(nonlin_test[:,0],results[:,0])\n",
        "plt.plot(nonlin_test[:,0],linearize(nonlin_test[:,0]))\n",
        "plt.xlabel('u')\n",
        "plt.ylabel('w')\n",
        "plt.legend(['Recovered','True'])\n",
        "plt.title('Recovered transformation')"
      ]
    },
    {
      "cell_type": "code",
      "source": [
        "\n"
      ],
      "metadata": {
        "id": "py_MEWO9P3N6"
      },
      "execution_count": null,
      "outputs": []
    },
    {
      "cell_type": "code",
      "source": [],
      "metadata": {
        "id": "dQFA7kn-Aldf"
      },
      "execution_count": null,
      "outputs": []
    }
  ],
  "metadata": {
    "colab": {
      "machine_shape": "hm",
      "provenance": []
    },
    "kernelspec": {
      "display_name": "Python 3",
      "name": "python3"
    },
    "language_info": {
      "name": "python"
    }
  },
  "nbformat": 4,
  "nbformat_minor": 0
}